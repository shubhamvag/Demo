{
  "nbformat": 4,
  "nbformat_minor": 0,
  "metadata": {
    "colab": {
      "provenance": [],
      "authorship_tag": "ABX9TyNfDaY5qWF5pxfVNweI7jfH",
      "include_colab_link": true
    },
    "kernelspec": {
      "name": "python3",
      "display_name": "Python 3"
    },
    "language_info": {
      "name": "python"
    }
  },
  "cells": [
    {
      "cell_type": "markdown",
      "metadata": {
        "id": "view-in-github",
        "colab_type": "text"
      },
      "source": [
        "<a href=\"https://colab.research.google.com/github/shubhamvag/Demo/blob/main/Finance_analyszer.ipynb\" target=\"_parent\"><img src=\"https://colab.research.google.com/assets/colab-badge.svg\" alt=\"Open In Colab\"/></a>"
      ]
    },
    {
      "cell_type": "code",
      "source": [
        "import numpy as np\n",
        "import numpy.ma as ma\n",
        "\n",
        "transaction_dtype = np.dtype([\n",
        "    ('data', 'S10'),\n",
        "    ('category', 'S20'),\n",
        "    ('amount', float),\n",
        "    ('valid', int)\n",
        "])\n",
        "\n",
        "def simulate_transactions(num_transactions=10):\n",
        "  np.random.seed(42)\n",
        "  dates = [f'2025-07-{i:02d}' for i in range(1,11)]\n",
        "  categories= ['Food','Rent','Entertimen','Transport', 'Utilities']\n",
        "  data=[]\n",
        "\n",
        "  for i in range(num_transactions):\n",
        "    data = dates[i % len(dates)]\n",
        "    category = np.random.choice(categories)\n",
        "    amount = np.random.uniform(5, 500) if np.random.rand() > 0.2  else -999\n",
        "    data.append((data, category, amount, valid))\n",
        "\n",
        "  return np.array((data, category, amount, valid))\n",
        "\n",
        "def input_transaction():\n",
        "  print(\"\\nEnter transaction details:\")\n",
        "  date = input(\"Date (YYYY-MM-DD, e.g, 20025-07-01): \").strip()[:10]\n",
        "  category = input(\"Category (e.g., Food, Rent): \").strip()[:20]\n",
        "  while True:\n",
        "    try:\n",
        "        amount = float(input(\"Amount (e.g., 50.25): \"))\n",
        "        break\n",
        "    except ValueError:\n",
        "        print(\"Invalid ampunt! Please enter a number.\")\n",
        "\n",
        "  valid = 1 if amount >= 0 else 0\n",
        "  return (date, category, amount, valid)\n",
        "\n",
        "\n",
        "\n",
        "\n",
        "\n",
        "\n"
      ],
      "metadata": {
        "id": "gvHybLHEwF-Y"
      },
      "execution_count": 3,
      "outputs": []
    }
  ]
}